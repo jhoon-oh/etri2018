{
 "cells": [
  {
   "cell_type": "markdown",
   "metadata": {},
   "source": [
    "# Make graph data"
   ]
  },
  {
   "cell_type": "code",
   "execution_count": 1,
   "metadata": {},
   "outputs": [],
   "source": [
    "import numpy as np\n",
    "import pandas as pd\n",
    "import torch"
   ]
  },
  {
   "cell_type": "code",
   "execution_count": 2,
   "metadata": {},
   "outputs": [],
   "source": [
    "def get_feature(graph_atoms):\n",
    "    N = len(graph_atoms)\n",
    "    for i in range(N):\n",
    "        graph_atoms[i] = atom2vec[graph_atoms[i]]\n",
    "    return np.array(graph_atoms)"
   ]
  },
  {
   "cell_type": "code",
   "execution_count": 3,
   "metadata": {},
   "outputs": [],
   "source": [
    "def get_dist(crd1, crd2):\n",
    "    crd1 = np.array(crd1)\n",
    "    crd2 = np.array(crd2)\n",
    "    return np.linalg.norm(crd1-crd2)\n",
    "\n",
    "def get_adj(graph_crd):\n",
    "    N = len(graph_crd)\n",
    "    adj = np.zeros([N,N])\n",
    "    for i in range(N):\n",
    "        for j in range(N):\n",
    "            if i!=j:\n",
    "                adj[i][j]=get_dist(graph_crd[i],graph_crd[j])\n",
    "    return adj"
   ]
  },
  {
   "cell_type": "code",
   "execution_count": 4,
   "metadata": {},
   "outputs": [],
   "source": [
    "atoms_loc_data = pd.read_csv('../data/O_atom_location.csv')\n",
    "atoms_loc_data['coord'] = [tuple(row[col] for col in ['x', 'y', 'z']) for _, row in atoms_loc_data.iterrows()]\n",
    "atoms_loc_data = atoms_loc_data.drop('x', axis=1)\n",
    "atoms_loc_data = atoms_loc_data.drop('y', axis=1)\n",
    "atoms_loc_data = atoms_loc_data.drop('z', axis=1)\n",
    "atom2vec = pd.read_csv('atom2vec_SVD20.csv', index_col=0).T\n",
    "energy_data = list(pd.read_csv('mat_energy.csv')['energy'])"
   ]
  },
  {
   "cell_type": "code",
   "execution_count": 9,
   "metadata": {},
   "outputs": [],
   "source": [
    "graph_data = []\n",
    "for i in range(max(set(atoms_loc_data['num']))):\n",
    "    nodes = get_feature(list(atoms_loc_data[atoms_loc_data['num']==i+1]['atom']))\n",
    "    adj = get_adj(list(atoms_loc_data[atoms_loc_data['num']==i+1]['coord']))\n",
    "    energy = energy_data[i]\n",
    "    graph_data.append([nodes, adj, energy])\n",
    "##### graph_data[idx][0] => N*D feature matrix\n",
    "##### graph_data[idx][1] => N*N adjacency matrix\n",
    "##### graph_data[idx][2] => 1 energy"
   ]
  },
  {
   "cell_type": "markdown",
   "metadata": {},
   "source": [
    "# Grpah NN"
   ]
  },
  {
   "cell_type": "code",
   "execution_count": 9,
   "metadata": {},
   "outputs": [],
   "source": [
    "##### make Weight => D*out_D matrix"
   ]
  },
  {
   "cell_type": "code",
   "execution_count": null,
   "metadata": {},
   "outputs": [],
   "source": []
  },
  {
   "cell_type": "code",
   "execution_count": null,
   "metadata": {},
   "outputs": [],
   "source": []
  }
 ],
 "metadata": {
  "kernelspec": {
   "display_name": "Python 3",
   "language": "python",
   "name": "python3"
  },
  "language_info": {
   "codemirror_mode": {
    "name": "ipython",
    "version": 3
   },
   "file_extension": ".py",
   "mimetype": "text/x-python",
   "name": "python",
   "nbconvert_exporter": "python",
   "pygments_lexer": "ipython3",
   "version": "3.6.0"
  }
 },
 "nbformat": 4,
 "nbformat_minor": 2
}
