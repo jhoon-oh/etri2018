{
 "cells": [
  {
   "cell_type": "markdown",
   "metadata": {},
   "source": [
    "# To test data"
   ]
  },
  {
   "cell_type": "code",
   "execution_count": 1,
   "metadata": {
    "collapsed": true
   },
   "outputs": [],
   "source": [
    "def load_data(file_name):\n",
    "    origin_data = open(file_name, 'rt')\n",
    "    structure = []\n",
    "    energy = []\n",
    "    for line in origin_data:\n",
    "        if 'adsorption' in line:\n",
    "            tmp = line.split('\\n')[0]\n",
    "            if 'alloy' in line:\n",
    "                tmp = tmp.split('./')[1]\n",
    "                structure.append(tmp)\n",
    "            else:\n",
    "                energy.append(tmp)\n",
    "    return structure, energy"
   ]
  },
  {
   "cell_type": "code",
   "execution_count": 2,
   "metadata": {
    "collapsed": true
   },
   "outputs": [
    {
     "name": "stdout",
     "output_type": "stream",
     "text": [
      "1520 1520 2657 2657 1140 1140 5319 5317\n"
     ]
    }
   ],
   "source": [
    "str_O, energy_O = load_data('trainset_O')\n",
    "str_OH, energy_OH = load_data('trainset_OH')\n",
    "str_OOH, energy_OOH = load_data('trainset_OOH')\n",
    "str_full, energy_full = load_data('trainset')\n",
    "print (len(str_O), len(energy_O), len(str_OH), len(energy_OH), len(str_OOH), len(energy_OOH), len(str_full), len(energy_full))"
   ]
  },
  {
   "cell_type": "markdown",
   "metadata": {},
   "source": [
    "./adsorption_OH/alloy/Au3Re/hcp/homo  \n",
    "./adsorption_OH/alloy/Au3Re/top\n",
    "\n",
    "there is no energy data above two structures"
   ]
  },
  {
   "cell_type": "markdown",
   "metadata": {},
   "source": [
    "# representational matrix using molml"
   ]
  },
  {
   "cell_type": "code",
   "execution_count": 3,
   "metadata": {},
   "outputs": [],
   "source": [
    "import re\n",
    "import numpy as np\n",
    "from pymatgen import Element\n",
    "\n",
    "import molml\n",
    "from molml.crystal import SineMatrix\n",
    "\n",
    "import matplotlib.pyplot as plt"
   ]
  },
  {
   "cell_type": "code",
   "execution_count": 4,
   "metadata": {},
   "outputs": [],
   "source": [
    "def get_data(dataset, idx):\n",
    "    full_data = open(dataset, 'rt').read().split('\\n\\n\\n\\n')\n",
    "    tmp_data = re.sub(' +\\n','\\n',re.sub('\\n +','\\n',full_data[idx])).split('\\n')\n",
    "    STRUCTURE = tmp_data[0].split('./')[1]\n",
    "    ele_set = re.sub('\\s+',' ',tmp_data[6]).split(' ')\n",
    "    numbers = list(map(int, re.sub('\\s+',' ',tmp_data[7]).split(' ')))\n",
    "    ELES = ''\n",
    "    for i in range(len(ele_set)):\n",
    "        ELES += ele_set[i]*numbers[i]\n",
    "    ELES = re.findall('[A-Z][^A-Z]*', ELES)\n",
    "    COORDS = tmp_data[10:10+len(ELES)]\n",
    "    for i in range(len(ELES)):\n",
    "        COORDS[i] = list(map(float,re.sub('\\s+',' ',COORDS[i]).split(' ')[0:3]))\n",
    "    UNIT = tmp_data[3:6]\n",
    "    for i in range(3):\n",
    "        UNIT[i] = list(map(float, re.sub('\\s+',' ',UNIT[i]).split(' ')))\n",
    "    ENERGY = float(tmp_data[-1].split('= ')[1].split(' eV')[0])\n",
    "    return STRUCTURE, ELES, np.array(COORDS), np.array(UNIT), ENERGY"
   ]
  },
  {
   "cell_type": "code",
   "execution_count": 5,
   "metadata": {},
   "outputs": [],
   "source": [
    "def heatmap(data, row_labels, col_labels, ax=None,\n",
    "            cbar_kw={}, cbarlabel=\"\", **kwargs):\n",
    "    \"\"\"\n",
    "    Create a heatmap from a numpy array and two lists of labels.\n",
    "\n",
    "    Arguments:\n",
    "        data       : A 2D numpy array of shape (N,M)\n",
    "        row_labels : A list or array of length N with the labels\n",
    "                     for the rows\n",
    "        col_labels : A list or array of length M with the labels\n",
    "                     for the columns\n",
    "    Optional arguments:\n",
    "        ax         : A matplotlib.axes.Axes instance to which the heatmap\n",
    "                     is plotted. If not provided, use current axes or\n",
    "                     create a new one.\n",
    "        cbar_kw    : A dictionary with arguments to\n",
    "                     :meth:`matplotlib.Figure.colorbar`.\n",
    "        cbarlabel  : The label for the colorbar\n",
    "    All other arguments are directly passed on to the imshow call.\n",
    "    \"\"\"\n",
    "\n",
    "    if not ax:\n",
    "        ax = plt.gca()\n",
    "\n",
    "    # Plot the heatmap\n",
    "    im = ax.imshow(data, **kwargs)\n",
    "\n",
    "    # Create colorbar\n",
    "    cbar = ax.figure.colorbar(im, ax=ax, **cbar_kw)\n",
    "    cbar.ax.set_ylabel(cbarlabel, rotation=-90, va=\"bottom\")\n",
    "    \n",
    "    # We want to show all ticks...\n",
    "    ax.set_xticks(np.arange(data.shape[1]))\n",
    "    ax.set_yticks(np.arange(data.shape[0]))\n",
    "    # ... and label them with the respective list entries.\n",
    "    ax.set_xticklabels(col_labels)\n",
    "    ax.set_yticklabels(row_labels)\n",
    "\n",
    "    # Let the horizontal axes labeling appear on top.\n",
    "    ax.tick_params(top=True, bottom=False,\n",
    "                   labeltop=True, labelbottom=False)\n",
    "\n",
    "    # Rotate the tick labels and set their alignment.\n",
    "    # plt.setp(ax.get_xticklabels(), rotation=-30, ha=\"right\", rotation_mode=\"anchor\")\n",
    "\n",
    "    # Turn spines off and create white grid.\n",
    "    for edge, spine in ax.spines.items():\n",
    "        spine.set_visible(False)\n",
    "\n",
    "    ax.set_xticks(np.arange(data.shape[1]+1)-.5, minor=True)\n",
    "    ax.set_yticks(np.arange(data.shape[0]+1)-.5, minor=True)\n",
    "    ax.grid(which=\"minor\", color=\"w\", linestyle='-')\n",
    "    ax.tick_params(which=\"minor\", bottom=False, left=False)\n",
    "\n",
    "    return im, cbar"
   ]
  },
  {
   "cell_type": "markdown",
   "metadata": {},
   "source": [
    "---"
   ]
  },
  {
   "cell_type": "code",
   "execution_count": 6,
   "metadata": {},
   "outputs": [],
   "source": [
    "STRUCTURE, ELES, COORDS, UNIT, ENERGY = get_data('trainset_O', 1003)\n",
    "input_type = (\"elements\", \"coords\", \"unit_cell\")\n",
    "X = (ELES, COORDS, UNIT)\n",
    "trans = SineMatrix(input_type=input_type)\n",
    "res = trans.fit_transform([X])\n",
    "# print (res.reshape(441))"
   ]
  },
  {
   "cell_type": "code",
   "execution_count": 7,
   "metadata": {},
   "outputs": [
    {
     "data": {
      "image/png": "[encoded data removed]",
      "text/plain": [
       "<Figure size 576x576 with 2 Axes>"
      ]
     },
     "metadata": {},
     "output_type": "display_data"
    }
   ],
   "source": [
    "fig, ax = plt.subplots(figsize=(8,8))\n",
    "im, cbar = heatmap(res.reshape(len(ELES),len(ELES)), ELES, ELES, ax=ax, cmap=\"Blues\")\n",
    "# we can give a limitation through vmin and vmax\n",
    "fig.tight_layout()\n",
    "file_name = STRUCTURE.replace('/',' ') + ' SineMatrix.png'\n",
    "plt.savefig(file_name, dpi=70)"
   ]
  },
  {
   "cell_type": "markdown",
   "metadata": {},
   "source": [
    "---"
   ]
  },
  {
   "cell_type": "code",
   "execution_count": 8,
   "metadata": {},
   "outputs": [],
   "source": [
    "tmp = []\n",
    "for i in range(1520):\n",
    "    STRUCTURE, ELES, COORDS, UNIT, ENERGY = get_data('trainset_O', i)\n",
    "    input_type = (\"elements\", \"coords\", \"unit_cell\")\n",
    "    X = (ELES, COORDS, UNIT)\n",
    "    trans = SineMatrix(input_type=input_type)\n",
    "    res = trans.fit_transform([X])\n",
    "    in_out_vec = [STRUCTURE] + list(res.reshape(441)) + [ENERGY]\n",
    "    tmp.append(in_out_vec)"
   ]
  },
  {
   "cell_type": "code",
   "execution_count": 9,
   "metadata": {},
   "outputs": [],
   "source": [
    "import pandas as pd\n",
    "import numpy as np"
   ]
  },
  {
   "cell_type": "code",
   "execution_count": 10,
   "metadata": {},
   "outputs": [],
   "source": [
    "tmp = pd.DataFrame(tmp)\n",
    "tmp.to_csv('molml_data.csv')"
   ]
  },
  {
   "cell_type": "code",
   "execution_count": 28,
   "metadata": {},
   "outputs": [],
   "source": []
  },
  {
   "cell_type": "code",
   "execution_count": null,
   "metadata": {},
   "outputs": [],
   "source": []
  }
 ],
 "metadata": {
  "kernelspec": {
   "display_name": "Python 3",
   "language": "python",
   "name": "python3"
  },
  "language_info": {
   "codemirror_mode": {
    "name": "ipython",
    "version": 3
   },
   "file_extension": ".py",
   "mimetype": "text/x-python",
   "name": "python",
   "nbconvert_exporter": "python",
   "pygments_lexer": "ipython3",
   "version": "3.6.5"
  }
 },
 "nbformat": 4,
 "nbformat_minor": 2
}
