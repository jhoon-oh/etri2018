{
 "cells": [
  {
   "cell_type": "code",
   "execution_count": 88,
   "metadata": {},
   "outputs": [],
   "source": [
    "import kmapper as km\n",
    "from sklearn import datasets\n",
    "\n",
    "import networkx as nx\n",
    "import matplotlib.pylab as plt"
   ]
  },
  {
   "cell_type": "code",
   "execution_count": 89,
   "metadata": {},
   "outputs": [],
   "source": [
    "data, labels = datasets.make_circles(n_samples=200, noise=0.03, factor=0.3)\n",
    "data_1_x = []\n",
    "data_1_y = []\n",
    "data_2_x = []\n",
    "data_2_y = []\n",
    "\n",
    "for i in range(len(data)):\n",
    "    if labels[i]==1:\n",
    "        data_1_x.append(data[i][0])\n",
    "        data_1_y.append(data[i][1])\n",
    "    else:\n",
    "        data_2_x.append(data[i][0])\n",
    "        data_2_y.append(data[i][1])"
   ]
  },
  {
   "cell_type": "code",
   "execution_count": 73,
   "metadata": {},
   "outputs": [
    {
     "data": {
      "text/plain": [
       "[<matplotlib.lines.Line2D at 0x7f7d55eb4b00>]"
      ]
     },
     "execution_count": 73,
     "metadata": {},
     "output_type": "execute_result"
    },
    {
     "data": {
      "image/png": "[encoded data removed]",
      "text/plain": [
       "<matplotlib.figure.Figure at 0x7f7d4690fa58>"
      ]
     },
     "metadata": {
      "needs_background": "light"
     },
     "output_type": "display_data"
    }
   ],
   "source": [
    "fig = plt.figure()\n",
    "ax1 = fig.add_subplot(1, 1, 1)\n",
    "ax2 = ax1.twinx()\n",
    "\n",
    "ax1.plot(data_1_x, data_1_y, 'bo', alpha=0.5)\n",
    "ax2.plot(data_2_x, data_2_y, 'ro', alpha=0.5)"
   ]
  },
  {
   "cell_type": "code",
   "execution_count": 81,
   "metadata": {},
   "outputs": [],
   "source": [
    "# Initialize\n",
    "mapper = km.KeplerMapper(verbose=0)\n",
    "\n",
    "# Fit to and transform the data\n",
    "projected_data = mapper.fit_transform(data, projection=[0,1]) # X-Y axis\n",
    "\n",
    "# Create dictionary called 'graph' with nodes, edges and meta-information\n",
    "graph = mapper.map(projected_data, data, nr_cubes=3, overlap_perc=0.3)"
   ]
  },
  {
   "cell_type": "code",
   "execution_count": 82,
   "metadata": {},
   "outputs": [],
   "source": [
    "edge_list = []\n",
    "for k, v in graph['links'].items():\n",
    "    for v_tmp in v:\n",
    "        edge_list.append((k,v_tmp))\n",
    "    \n",
    "G = nx.Graph()\n",
    "G.add_nodes_from(graph['nodes'])\n",
    "G.add_edges_from(edge_list)"
   ]
  },
  {
   "cell_type": "code",
   "execution_count": 84,
   "metadata": {},
   "outputs": [
    {
     "data": {
      "text/plain": [
       "defaultdict(list,\n",
       "            {'cube0_cluster0': {'size': 33, 'coordinates': array([0, 0])},\n",
       "             'cube0_cluster1': {'size': 33, 'coordinates': array([0, 0])},\n",
       "             'cube1_cluster0': {'size': 50, 'coordinates': array([0, 1])},\n",
       "             'cube1_cluster1': {'size': 50, 'coordinates': array([0, 1])},\n",
       "             'cube2_cluster0': {'size': 19, 'coordinates': array([0, 2])},\n",
       "             'cube3_cluster0': {'size': 52, 'coordinates': array([1, 0])},\n",
       "             'cube3_cluster1': {'size': 52, 'coordinates': array([1, 0])},\n",
       "             'cube4_cluster0': {'size': 100, 'coordinates': array([1, 1])},\n",
       "             'cube5_cluster0': {'size': 16, 'coordinates': array([1, 2])},\n",
       "             'cube6_cluster0': {'size': 17, 'coordinates': array([2, 0])},\n",
       "             'cube7_cluster0': {'size': 15, 'coordinates': array([2, 1])},\n",
       "             'cube8_cluster0': {'size': 13, 'coordinates': array([2, 2])}})"
      ]
     },
     "execution_count": 84,
     "metadata": {},
     "output_type": "execute_result"
    }
   ],
   "source": [
    "graph['meta_nodes']"
   ]
  },
  {
   "cell_type": "code",
   "execution_count": 83,
   "metadata": {},
   "outputs": [
    {
     "data": {
      "image/png": "[encoded data removed]",
      "text/plain": [
       "<matplotlib.figure.Figure at 0x7f7d4686ce48>"
      ]
     },
     "metadata": {},
     "output_type": "display_data"
    }
   ],
   "source": [
    "nx.draw(G)\n",
    "plt.show()"
   ]
  },
  {
   "cell_type": "code",
   "execution_count": null,
   "metadata": {},
   "outputs": [],
   "source": []
  }
 ],
 "metadata": {
  "kernelspec": {
   "display_name": "Python 3",
   "language": "python",
   "name": "python3"
  },
  "language_info": {
   "codemirror_mode": {
    "name": "ipython",
    "version": 3
   },
   "file_extension": ".py",
   "mimetype": "text/x-python",
   "name": "python",
   "nbconvert_exporter": "python",
   "pygments_lexer": "ipython3",
   "version": "3.6.0"
  }
 },
 "nbformat": 4,
 "nbformat_minor": 2
}
