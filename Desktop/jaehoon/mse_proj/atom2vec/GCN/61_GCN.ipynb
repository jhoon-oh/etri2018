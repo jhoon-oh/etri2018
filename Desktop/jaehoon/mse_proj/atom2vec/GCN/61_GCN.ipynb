{
 "cells": [
  {
   "cell_type": "markdown",
   "metadata": {},
   "source": [
    "# Make graph data"
   ]
  },
  {
   "cell_type": "code",
   "execution_count": 56,
   "metadata": {},
   "outputs": [],
   "source": [
    "import numpy as np\n",
    "import pandas as pd\n",
    "import time\n",
    "import math\n",
    "\n",
    "import torch\n",
    "import torch.nn as nn\n",
    "from torch.utils.data.dataset import random_split\n",
    "from torch.optim import lr_scheduler"
   ]
  },
  {
   "cell_type": "code",
   "execution_count": 57,
   "metadata": {},
   "outputs": [],
   "source": [
    "def get_feature(graph_atoms):\n",
    "    N = len(graph_atoms)\n",
    "    for i in range(N):\n",
    "        graph_atoms[i] = atom2vec[graph_atoms[i]]\n",
    "    return np.array(graph_atoms)"
   ]
  },
  {
   "cell_type": "code",
   "execution_count": 90,
   "metadata": {},
   "outputs": [],
   "source": [
    "def get_dist(crd1, crd2):\n",
    "    crd1 = np.array(crd1)\n",
    "    crd2 = np.array(crd2)\n",
    "    return np.linalg.norm(crd1-crd2)\n",
    "\n",
    "def get_adj(graph_crd):\n",
    "    N = len(graph_crd)\n",
    "    adj = np.ones([N,N])*0.5\n",
    "    for i in range(N):\n",
    "        for j in range(N):\n",
    "            if i!=j:\n",
    "                adj[i][j]=1/get_dist(graph_crd[i],graph_crd[j])\n",
    "    return adj"
   ]
  },
  {
   "cell_type": "code",
   "execution_count": 91,
   "metadata": {},
   "outputs": [],
   "source": [
    "atoms_loc_data = pd.read_csv('O_atom_location.csv')\n",
    "atoms_loc_data['coord'] = [tuple(row[col] for col in ['x', 'y', 'z']) for _, row in atoms_loc_data.iterrows()]\n",
    "atoms_loc_data = atoms_loc_data.drop('x', axis=1)\n",
    "atoms_loc_data = atoms_loc_data.drop('y', axis=1)\n",
    "atoms_loc_data = atoms_loc_data.drop('z', axis=1)\n",
    "atom2vec = pd.read_csv('atom2vec_SVD20.csv', index_col=0).T\n",
    "energy_data = list(pd.read_csv('mat_energy.csv')['energy'])"
   ]
  },
  {
   "cell_type": "code",
   "execution_count": 92,
   "metadata": {},
   "outputs": [],
   "source": [
    "graph_data = []\n",
    "for i in range(max(set(atoms_loc_data['num']))):\n",
    "    nodes = get_feature(list(atoms_loc_data[atoms_loc_data['num']==i+1]['atom']))\n",
    "    adj = get_adj(list(atoms_loc_data[atoms_loc_data['num']==i+1]['coord']))\n",
    "    energy = energy_data[i]\n",
    "    if energy > 0:\n",
    "        graph_data.append([nodes, adj, energy])\n",
    "##### graph_data[idx][0] => N*D feature matrix\n",
    "##### graph_data[idx][1] => N*N adjacency matrix\n",
    "##### graph_data[idx][2] => 1 energy"
   ]
  },
  {
   "cell_type": "code",
   "execution_count": 93,
   "metadata": {},
   "outputs": [],
   "source": [
    "graph_data = []\n",
    "for i in range(int(len(set(atoms_loc_data['num']))/4)):\n",
    "    min_idx = np.argmin(energy_data[i*4:(i+1)*4])\n",
    "    idx = 4*i + min_idx\n",
    "    nodes = get_feature(list(atoms_loc_data[atoms_loc_data['num']==idx+1]['atom']))\n",
    "    adj = get_adj(list(atoms_loc_data[atoms_loc_data['num']==idx+1]['coord']))\n",
    "    energy = energy_data[idx]\n",
    "    if energy > 0:\n",
    "        graph_data.append([nodes, adj, energy])"
   ]
  },
  {
   "cell_type": "code",
   "execution_count": 96,
   "metadata": {},
   "outputs": [
    {
     "name": "stdout",
     "output_type": "stream",
     "text": [
      "308 246 62\n"
     ]
    }
   ],
   "source": [
    "torch.manual_seed(0)\n",
    "num_of_data = len(graph_data)\n",
    "num_of_train = int(len(graph_data)*0.8)\n",
    "num_of_test = len(graph_data)-num_of_train\n",
    "print (num_of_data, num_of_train, num_of_test)\n",
    "train_data, test_data = random_split(graph_data, [num_of_train, num_of_test])"
   ]
  },
  {
   "cell_type": "markdown",
   "metadata": {},
   "source": [
    "# Grpah NN"
   ]
  },
  {
   "cell_type": "code",
   "execution_count": 97,
   "metadata": {},
   "outputs": [],
   "source": [
    "class GraphConvolution(nn.Module):\n",
    "    def __init__(self, in_features, out_features, init):\n",
    "        super(GraphConvolution, self).__init__()\n",
    "        self.in_features = in_features\n",
    "        self.out_features = out_features\n",
    "        self.weight = nn.Parameter(torch.FloatTensor(batch_size, in_features, out_features))\n",
    "        #self.bias = nn.Parameter(torch.FloatTensor(batch_size, out_features))\n",
    "\n",
    "        if init == 'uniform':\n",
    "            print(\"| Uniform Initialization\")\n",
    "            self.reset_parameters_uniform()\n",
    "        elif init == 'xavier':\n",
    "            print(\"| Xavier Initialization\")\n",
    "            self.reset_parameters_xavier()\n",
    "        elif init == 'kaiming':\n",
    "            print(\"| Kaiming Initialization\")\n",
    "            self.reset_parameters_kaiming()\n",
    "        else:\n",
    "            raise NotImplementedError\n",
    "\n",
    "    def reset_parameters_uniform(self):\n",
    "        stdv = 1. / math.sqrt(self.weight.size(1))\n",
    "        self.weight.data.uniform_(-stdv, stdv)\n",
    "        #self.bias.data.uniform_(-stdv, stdv)\n",
    "\n",
    "    def reset_parameters_xavier(self):\n",
    "        nn.init.xavier_normal_(self.weight.data, gain=0.02) # Implement Xavier Uniform\n",
    "        #nn.init.constant_(self.bias.data, 0.0)\n",
    "\n",
    "    def reset_parameters_kaiming(self):\n",
    "        nn.init.kaiming_normal_(self.weight.data, a=0, mode='fan_in')\n",
    "        #nn.init.constant_(self.bias.data, 0.0)\n",
    "\n",
    "    def forward(self, input, adj):\n",
    "        output = torch.bmm(adj, torch.bmm(input, self.weight))\n",
    "        return output"
   ]
  },
  {
   "cell_type": "code",
   "execution_count": 133,
   "metadata": {},
   "outputs": [],
   "source": [
    "class GCN(nn.Module):\n",
    "    def __init__(self, nfeat, nclass, init):\n",
    "        super(GCN, self).__init__()\n",
    "\n",
    "        self.gc1 = GraphConvolution(nfeat, 20, init=init)\n",
    "        self.act1 = nn.ReLU()\n",
    "        self.gc2 = GraphConvolution(20, 20, init=init)\n",
    "        self.act2 = nn.ReLU()\n",
    "        self.gc3 = GraphConvolution(20, nclass, init=init)\n",
    "\n",
    "    def forward(self, x, adj):\n",
    "        x1 = self.act1(self.gc1(x, adj))+x\n",
    "        x2 = self.act2(self.gc2(x1, adj))+x+x1\n",
    "        x3 = self.gc3(x2, adj)\n",
    "        output = torch.mean(x3, dim=1).view(batch_size)\n",
    "        return output"
   ]
  },
  {
   "cell_type": "markdown",
   "metadata": {},
   "source": [
    "# Train"
   ]
  },
  {
   "cell_type": "code",
   "execution_count": 134,
   "metadata": {},
   "outputs": [],
   "source": [
    "# Hyper Parameters \n",
    "num_epochs = 10000\n",
    "batch_size = int(num_of_data*0.1)+1\n",
    "learning_rate = 1e-4\n",
    "\n",
    "criterion = nn.SmoothL1Loss()"
   ]
  },
  {
   "cell_type": "code",
   "execution_count": 135,
   "metadata": {},
   "outputs": [],
   "source": [
    "train_loader = torch.utils.data.DataLoader(dataset=train_data, batch_size=batch_size, shuffle=True, drop_last=True)\n",
    "test_loader = torch.utils.data.DataLoader(dataset=test_data, batch_size=batch_size, shuffle=False, drop_last=True)"
   ]
  },
  {
   "cell_type": "code",
   "execution_count": 136,
   "metadata": {},
   "outputs": [],
   "source": [
    "# train\n",
    "def fit(model,train_loader,criterion,learning_rate,num_epochs):\n",
    "    optimizer = torch.optim.Adam(model.parameters(), lr=learning_rate, betas=(0.9, 0.999), weight_decay=1e-6)\n",
    "    scheduler = lr_scheduler.StepLR(optimizer, step_size=int(num_epochs/2), gamma=0.1)\n",
    "    \n",
    "    for epoch in range(num_epochs):\n",
    "        model.train()\n",
    "        epoch_loss=0\n",
    "        for i, data in enumerate(train_loader):\n",
    "            features = data[0].type(torch.FloatTensor).cuda(0)\n",
    "            adj = data[1].type(torch.FloatTensor).cuda(0)\n",
    "            energy = data[2].type(torch.FloatTensor).cuda(0)\n",
    "            \n",
    "            optimizer.zero_grad()\n",
    "            output = model(features, adj)\n",
    "            \n",
    "            loss = criterion(output, energy)\n",
    "            epoch_loss += loss.item()\n",
    "            loss.backward()\n",
    "            optimizer.step()\n",
    "            \n",
    "            features = features.cpu()\n",
    "            adj = adj.cpu()\n",
    "            energy = energy.cpu()\n",
    "\n",
    "        if epoch==0 or (epoch+1)%1000 == 0:\n",
    "            print (\"Epoch [%d/%d], train loss avg : %.4f\" % (epoch+1, num_epochs, epoch_loss/len(train_loader)))\n",
    "            curr_lr = optimizer.param_groups[0]['lr']\n",
    "            print('Learning rate : {}\\n'.format(curr_lr))\n",
    "        scheduler.step()\n",
    "        # file_name = './model/'+model_name+'/epoch{}.pth'.format(epoch+1)\n",
    "        # torch.save(model.state_dict(), file_name)"
   ]
  },
  {
   "cell_type": "code",
   "execution_count": 137,
   "metadata": {},
   "outputs": [
    {
     "name": "stdout",
     "output_type": "stream",
     "text": [
      "| Uniform Initialization\n",
      "| Uniform Initialization\n",
      "| Uniform Initialization\n",
      "Epoch [1/10000], train loss avg : 0.9313\n",
      "Learning rate : 0.0001\n",
      "\n",
      "Epoch [1000/10000], train loss avg : 0.0324\n",
      "Learning rate : 0.0001\n",
      "\n",
      "Epoch [2000/10000], train loss avg : 0.0225\n",
      "Learning rate : 0.0001\n",
      "\n",
      "Epoch [3000/10000], train loss avg : 0.0170\n",
      "Learning rate : 0.0001\n",
      "\n",
      "Epoch [4000/10000], train loss avg : 0.0150\n",
      "Learning rate : 0.0001\n",
      "\n",
      "Epoch [5000/10000], train loss avg : 0.0118\n",
      "Learning rate : 0.0001\n",
      "\n",
      "Epoch [6000/10000], train loss avg : 0.0096\n",
      "Learning rate : 1e-05\n",
      "\n",
      "Epoch [7000/10000], train loss avg : 0.0106\n",
      "Learning rate : 1e-05\n",
      "\n",
      "Epoch [8000/10000], train loss avg : 0.0111\n",
      "Learning rate : 1e-05\n",
      "\n",
      "Epoch [9000/10000], train loss avg : 0.0110\n",
      "Learning rate : 1e-05\n",
      "\n",
      "Epoch [10000/10000], train loss avg : 0.0105\n",
      "Learning rate : 1e-05\n",
      "\n",
      "--- 69.21545910835266 seconds ---\n"
     ]
    }
   ],
   "source": [
    "model = GCN(20, 1, 'uniform').cuda(0)\n",
    "start_time = time.time()\n",
    "\n",
    "fit(model, train_loader, criterion, learning_rate, num_epochs)\n",
    "print (\"--- %s seconds ---\" % (time.time() - start_time))"
   ]
  },
  {
   "cell_type": "code",
   "execution_count": 142,
   "metadata": {},
   "outputs": [],
   "source": [
    "# eval\n",
    "def eval(model,test_loader):\n",
    "    model.eval()\n",
    "    pred_all = []\n",
    "    real_all = []\n",
    "\n",
    "    for i, data in enumerate(test_loader):\n",
    "        features = data[0].type(torch.FloatTensor).cuda(0)\n",
    "        adj = data[1].type(torch.FloatTensor).cuda(0)\n",
    "        energy = data[2].type(torch.FloatTensor).cuda(0)\n",
    "        real_all += list(energy.cpu().detach().numpy())\n",
    "        \n",
    "        pred_energy = model(features, adj)\n",
    "        pred_energy = list(pred_energy.cpu().detach().numpy())\n",
    "        pred_all += pred_energy\n",
    "\n",
    "    real_all = np.array(real_all)\n",
    "    pred_all = np.array(pred_all)\n",
    "    l1_loss = np.abs(real_all-pred_all).mean(axis=0)\n",
    "    print (l1_loss)\n",
    "    return real_all, pred_all"
   ]
  },
  {
   "cell_type": "code",
   "execution_count": 146,
   "metadata": {},
   "outputs": [
    {
     "name": "stdout",
     "output_type": "stream",
     "text": [
      "0.186201\n"
     ]
    }
   ],
   "source": [
    "real_all, pred_all = eval(model, test_loader)"
   ]
  },
  {
   "cell_type": "markdown",
   "metadata": {},
   "source": [
    "---"
   ]
  },
  {
   "cell_type": "code",
   "execution_count": 147,
   "metadata": {},
   "outputs": [],
   "source": [
    "import matplotlib.pyplot as plt"
   ]
  },
  {
   "cell_type": "code",
   "execution_count": 148,
   "metadata": {},
   "outputs": [
    {
     "data": {
      "text/plain": [
       "(-0.1391143394322574, 2.8490436901958169)"
      ]
     },
     "execution_count": 148,
     "metadata": {},
     "output_type": "execute_result"
    },
    {
     "data": {
      "image/png": "[encoded data removed]",
      "text/plain": [
       "<matplotlib.figure.Figure at 0x7f21f7d82ef0>"
      ]
     },
     "metadata": {
      "needs_background": "light"
     },
     "output_type": "display_data"
    }
   ],
   "source": [
    "fig, ax = plt.subplots()\n",
    "ax.scatter(real_all, pred_all, s=25)\n",
    "\n",
    "lims = [\n",
    "    np.min([ax.get_xlim(), ax.get_ylim()]),  # min of both axes\n",
    "    np.max([ax.get_xlim(), ax.get_ylim()]),  # max of both axes\n",
    "]\n",
    "\n",
    "# now plot both limits against eachother\n",
    "ax.plot(lims, lims, 'k-', alpha=0.75, zorder=0)\n",
    "ax.set_aspect('equal')\n",
    "ax.set_xlim(lims)\n",
    "ax.set_ylim(lims)"
   ]
  },
  {
   "cell_type": "code",
   "execution_count": null,
   "metadata": {},
   "outputs": [],
   "source": []
  },
  {
   "cell_type": "code",
   "execution_count": null,
   "metadata": {},
   "outputs": [],
   "source": []
  }
 ],
 "metadata": {
  "kernelspec": {
   "display_name": "Python 3",
   "language": "python",
   "name": "python3"
  },
  "language_info": {
   "codemirror_mode": {
    "name": "ipython",
    "version": 3
   },
   "file_extension": ".py",
   "mimetype": "text/x-python",
   "name": "python",
   "nbconvert_exporter": "python",
   "pygments_lexer": "ipython3",
   "version": "3.6.0"
  }
 },
 "nbformat": 4,
 "nbformat_minor": 2
}
