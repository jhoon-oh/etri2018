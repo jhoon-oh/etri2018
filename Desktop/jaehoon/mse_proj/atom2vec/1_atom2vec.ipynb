{
 "cells": [
  {
   "cell_type": "markdown",
   "metadata": {},
   "source": [
    "# Preprocessing"
   ]
  },
  {
   "cell_type": "code",
   "execution_count": 25,
   "metadata": {},
   "outputs": [],
   "source": [
    "import pandas as pd\n",
    "import numpy as np\n",
    "import torch\n",
    "import torch.nn.functional as F\n",
    "from scipy import spatial"
   ]
  },
  {
   "cell_type": "markdown",
   "metadata": {},
   "source": [
    "### Method (1: Sum, 2: Softmax)"
   ]
  },
  {
   "cell_type": "code",
   "execution_count": 26,
   "metadata": {},
   "outputs": [],
   "source": [
    "def get_dataset(method, p):\n",
    "    atom_env = pd.read_csv('atom_env_matrix.csv', index_col=0).transpose()\n",
    "    atom_env = atom_env.reset_index().values\n",
    "    # np.random.shuffle(atom_env)\n",
    "\n",
    "    atoms = []\n",
    "    dataset = []\n",
    "    if method == 1:\n",
    "        for i in range(len(atom_env)): \n",
    "            tmp = atom_env[i]\n",
    "            atoms.append(tmp[0])\n",
    "            dataset.append(tmp[1:]/(sum(tmp[1:]**p)**(1/p)))\n",
    "        dataset = np.float32(dataset)\n",
    "    elif method == 2:\n",
    "        for i in range(len(atom_env)): \n",
    "            tmp = atom_env[i]\n",
    "            atoms.append(tmp[0])\n",
    "            dataset.append(F.softmax(torch.from_numpy(np.float32(tmp[1:])),dim=0))\n",
    "        for i in range(len(dataset)):\n",
    "            dataset[i] = dataset[i].numpy()\n",
    "            \n",
    "    return atoms, dataset"
   ]
  },
  {
   "cell_type": "code",
   "execution_count": 27,
   "metadata": {},
   "outputs": [],
   "source": [
    "atoms, dataset = get_dataset(method=1, p=2)"
   ]
  },
  {
   "cell_type": "markdown",
   "metadata": {},
   "source": [
    "### Check the similarity between two atoms in the same group before making atom2vec"
   ]
  },
  {
   "cell_type": "code",
   "execution_count": 28,
   "metadata": {},
   "outputs": [],
   "source": [
    "atom_dict = {}\n",
    "for i in range(len(atoms)):\n",
    "    atom_dict[atoms[i]] = dataset[i]"
   ]
  },
  {
   "cell_type": "code",
   "execution_count": 30,
   "metadata": {},
   "outputs": [
    {
     "name": "stdout",
     "output_type": "stream",
     "text": [
      "0.423652768135\n"
     ]
    }
   ],
   "source": [
    "first_atom_vec = atom_dict['Rb']\n",
    "second_atom_vec = atom_dict['Na']\n",
    "similarity = 1 - spatial.distance.cosine(first_atom_vec, second_atom_vec)\n",
    "print (similarity)"
   ]
  },
  {
   "cell_type": "markdown",
   "metadata": {},
   "source": [
    "# Make atom2vec using SVD, NMF, AE"
   ]
  },
  {
   "cell_type": "code",
   "execution_count": 31,
   "metadata": {},
   "outputs": [],
   "source": [
    "from torch import nn\n",
    "from torch.utils.data import DataLoader\n",
    "from sklearn.decomposition import NMF"
   ]
  },
  {
   "cell_type": "code",
   "execution_count": 32,
   "metadata": {},
   "outputs": [],
   "source": [
    "which_gpu = 0"
   ]
  },
  {
   "cell_type": "code",
   "execution_count": 33,
   "metadata": {},
   "outputs": [],
   "source": [
    "class autoencoder_phase1(nn.Module):\n",
    "    def __init__(self, vec_num):\n",
    "        super(autoencoder_phase1, self).__init__()\n",
    "        self.enc = nn.Sequential(\n",
    "            nn.Linear(23095,8192),\n",
    "            nn.ReLU(),\n",
    "            nn.Linear(8192,4096),\n",
    "            nn.ReLU(),\n",
    "            nn.Linear(4096,2048),\n",
    "            nn.ReLU(),\n",
    "            nn.Linear(2048,vec_num),\n",
    "            nn.ReLU())\n",
    "        \n",
    "        self.dec = nn.Sequential(\n",
    "            nn.Linear(vec_num,2048),\n",
    "            nn.ReLU(),\n",
    "            nn.Linear(2048,4096),\n",
    "            nn.ReLU(),\n",
    "            nn.Linear(4096,8192),\n",
    "            nn.ReLU(),\n",
    "            nn.Linear(8192,23095),\n",
    "            nn.ReLU())\n",
    "        \n",
    "        # Skip connection consider\n",
    "\n",
    "    def forward(self, x):\n",
    "        atom2vec = self.enc(x)\n",
    "        recon_x = self.dec(atom2vec)\n",
    "        #recon_x = torch.min(recon_x, torch.ones(recon_x.shape[0], recon_x.shape[1]).cuda(which_gpu))\n",
    "        return atom2vec, recon_x"
   ]
  },
  {
   "cell_type": "code",
   "execution_count": 34,
   "metadata": {},
   "outputs": [],
   "source": [
    "def set_AE(batch_size, vec_num, learning_rate):\n",
    "    dataloader = DataLoader(dataset, batch_size=batch_size, shuffle=False)\n",
    "    model = autoencoder_phase1(vec_num).cuda(which_gpu)\n",
    "    optimizer = torch.optim.Adam(model.parameters(), lr=learning_rate)\n",
    "    scheduler = torch.optim.lr_scheduler.ReduceLROnPlateau(optimizer, mode='min', factor=0.1, patience=100, verbose=True)\n",
    "    return dataloader, model, optimizer, scheduler\n",
    "\n",
    "def run_AE(dataloader, model, optimizer, scheduler, num_epochs):\n",
    "    for epoch in range(num_epochs):\n",
    "        atom2vec = []\n",
    "        epoch_loss = 0\n",
    "        for i, data in enumerate(dataloader):\n",
    "            x = data.type(torch.FloatTensor).cuda(which_gpu)\n",
    "            tmp_batch = x.shape[0]\n",
    "            # ===================forward=====================\n",
    "            tmp, recon_x = model(x)\n",
    "            atom2vec.append(tmp)\n",
    "            \n",
    "            loss = loss5(x, recon_x, tmp_batch)\n",
    "            epoch_loss += loss.item()\n",
    "            # ===================backward====================\n",
    "            optimizer.zero_grad()\n",
    "            loss.backward()\n",
    "            optimizer.step()\n",
    "        # ===================log========================\n",
    "        epoch_loss = epoch_loss/len(dataloader)\n",
    "        scheduler.step(epoch_loss)\n",
    "        if epoch % (num_epochs//5) == 0:\n",
    "            print('epoch [{}/{}], loss:{:.20f}'.format(epoch + 1, num_epochs, epoch_loss))\n",
    "    atom2vec = torch.cat(atom2vec, dim=0).cpu().detach().numpy()\n",
    "    return atom2vec\n",
    "\n",
    "def loss1(x, recon_x, tmp_batch):\n",
    "    log_recon_x = torch.log2(F.softmax(recon_x, dim=1))\n",
    "    loss = -torch.mean(torch.bmm(x.view(tmp_batch, 1, 23095), log_recon_x.view(tmp_batch, 23095, 1)).view(-1))\n",
    "    return loss\n",
    "\n",
    "def loss2(x, recon_x, tmp_batch):\n",
    "    similarity = torch.sum(F.cosine_similarity(x, recon_x, dim=1))/tmp_batch\n",
    "    loss = 1-similarity\n",
    "    return loss\n",
    "\n",
    "def loss3(x, recon_x, tmp_batch):\n",
    "    loss = torch.sum(F.pairwise_distance(x, recon_x, p=2))/tmp_batch\n",
    "    return loss\n",
    "    \n",
    "def loss4(x, recon_x, tmp_batch):\n",
    "    diff = (recon_x-x)**2\n",
    "    #diff = torch.abs(recon_x-x)\n",
    "    \n",
    "    weight_x = x.clone()\n",
    "    weight_x[x==0] = 0.01\n",
    "    weight_x[x!=0] = 1\n",
    "    \n",
    "    loss = torch.mean(torch.bmm(weight_x.view(tmp_batch, 1, 23095), diff.view(tmp_batch, 23095, 1)).view(-1))\n",
    "    return loss\n",
    "\n",
    "def loss5(x, recon_x, tmp_batch):\n",
    "    loss = torch.sum(x * (torch.log(x+1e-8)-torch.log(recon_x+1e-8)) - x + recon_x)\n",
    "    return loss"
   ]
  },
  {
   "cell_type": "markdown",
   "metadata": {},
   "source": [
    "---"
   ]
  },
  {
   "cell_type": "code",
   "execution_count": 35,
   "metadata": {},
   "outputs": [],
   "source": [
    "def SVD_or_NMF_or_AE(method, vec_num):\n",
    "    if method == 'SVD':\n",
    "        u, s, vh = np.linalg.svd(dataset, full_matrices=False)\n",
    "        tmp = []\n",
    "        for i in range(len(u)):\n",
    "            tmp.append(u[i][:vec_num])\n",
    "        tmp = np.array(tmp)\n",
    "\n",
    "    elif method == 'NMF':\n",
    "        model = NMF(n_components=vec_num, solver='cd', init='nndsvd', tol = 1e-6, max_iter=5000)\n",
    "        W = model.fit_transform(dataset)\n",
    "        H = model.components_\n",
    "        tmp = np.array(W)\n",
    "    \n",
    "    elif method == 'AE':\n",
    "        dataloader, model, optimizer, scheduler = set_AE(batch_size=90, vec_num=vec_num, learning_rate=1e-3)\n",
    "        tmp = run_AE(dataloader, model, optimizer, scheduler, num_epochs=2000+1)\n",
    "        \n",
    "    file_name = 'atom2vec_' + method + str(vec_num) +'.csv'\n",
    "    tmp_pd = pd.DataFrame(tmp, index=atoms)\n",
    "    tmp_pd.to_csv(file_name)"
   ]
  },
  {
   "cell_type": "code",
   "execution_count": 11,
   "metadata": {},
   "outputs": [],
   "source": [
    "SVD_or_NMF_or_AE('SVD', 20)"
   ]
  },
  {
   "cell_type": "code",
   "execution_count": 12,
   "metadata": {},
   "outputs": [],
   "source": [
    "SVD_or_NMF_or_AE('NMF', 20)"
   ]
  },
  {
   "cell_type": "code",
   "execution_count": 13,
   "metadata": {},
   "outputs": [
    {
     "name": "stdout",
     "output_type": "stream",
     "text": [
      "epoch [1/2001], loss:16361.20703125000000000000\n",
      "epoch [401/2001], loss:14188.54003906250000000000\n",
      "Epoch   591: reducing learning rate of group 0 to 1.0000e-04.\n",
      "Epoch   692: reducing learning rate of group 0 to 1.0000e-05.\n",
      "Epoch   793: reducing learning rate of group 0 to 1.0000e-06.\n",
      "epoch [801/2001], loss:14088.27441406250000000000\n",
      "Epoch   894: reducing learning rate of group 0 to 1.0000e-07.\n",
      "Epoch   995: reducing learning rate of group 0 to 1.0000e-08.\n",
      "epoch [1201/2001], loss:14087.99414062500000000000\n",
      "epoch [1601/2001], loss:14087.98339843750000000000\n",
      "epoch [2001/2001], loss:14087.96972656250000000000\n"
     ]
    }
   ],
   "source": [
    "SVD_or_NMF_or_AE('AE', 1024)"
   ]
  },
  {
   "cell_type": "markdown",
   "metadata": {},
   "source": [
    "---"
   ]
  },
  {
   "cell_type": "code",
   "execution_count": 21,
   "metadata": {},
   "outputs": [],
   "source": [
    "phase1_ae = pd.read_csv('atom2vec_AE1024.csv', index_col=0)\n",
    "'''\n",
    "for i in range(1024):\n",
    "    idx = str(i)\n",
    "    if sum(phase1_ae[idx]) == 0:\n",
    "        phase1_ae = phase1_ae.drop(idx, 1)\n",
    "'''\n",
    "phase1_ae = phase1_ae.reset_index().values\n",
    "\n",
    "atoms = []\n",
    "dataset = []\n",
    "for i in range(len(phase1_ae)): \n",
    "    tmp = phase1_ae[i]\n",
    "    atoms.append(tmp[0])\n",
    "    dataset.append(tmp[1:])\n",
    "dataset = np.float32(dataset)"
   ]
  },
  {
   "cell_type": "code",
   "execution_count": 22,
   "metadata": {},
   "outputs": [],
   "source": [
    "class autoencoder_phase2(nn.Module):\n",
    "    def __init__(self, vec_num):\n",
    "        super(autoencoder_phase2, self).__init__()\n",
    "        self.enc = nn.Sequential(\n",
    "            nn.Linear(1024,256),\n",
    "            nn.ReLU(),\n",
    "            nn.Linear(256,128),\n",
    "            nn.ReLU(),\n",
    "            nn.Linear(128,64),\n",
    "            nn.ReLU(),\n",
    "            nn.Linear(64,vec_num),\n",
    "            nn.ReLU())\n",
    "        \n",
    "        self.dec = nn.Sequential(\n",
    "            nn.Linear(vec_num,64),\n",
    "            nn.ReLU(),\n",
    "            nn.Linear(64,128),\n",
    "            nn.ReLU(),\n",
    "            nn.Linear(128,256),\n",
    "            nn.ReLU(),\n",
    "            nn.Linear(256,1024),\n",
    "            nn.ReLU())\n",
    "        \n",
    "        # Skip connection consider\n",
    "\n",
    "    def forward(self, x):\n",
    "        atom2vec = self.enc(x)\n",
    "        recon_x = self.dec(atom2vec)\n",
    "        #recon_x = torch.min(recon_x, torch.ones(recon_x.shape[0], recon_x.shape[1]).cuda(which_gpu))\n",
    "        return atom2vec, recon_x"
   ]
  },
  {
   "cell_type": "code",
   "execution_count": 23,
   "metadata": {},
   "outputs": [],
   "source": [
    "def set_AE(batch_size, vec_num, learning_rate):\n",
    "    dataloader = DataLoader(dataset, batch_size=batch_size, shuffle=False)\n",
    "    model = autoencoder_phase2(vec_num).cuda(which_gpu)\n",
    "    optimizer = torch.optim.Adam(model.parameters(), lr=learning_rate)\n",
    "    scheduler = torch.optim.lr_scheduler.ReduceLROnPlateau(optimizer, mode='min', factor=0.1, patience=100, verbose=True)\n",
    "    return dataloader, model, optimizer, scheduler\n",
    "\n",
    "def SVD_or_NMF_or_AE(method, vec_num):\n",
    "    if method == 'SVD':\n",
    "        u, s, vh = np.linalg.svd(dataset, full_matrices=False)\n",
    "        tmp = []\n",
    "        for i in range(len(u)):\n",
    "            tmp.append(u[i][:vec_num])\n",
    "        tmp = np.array(tmp)\n",
    "\n",
    "    elif method == 'NMF':\n",
    "        model = NMF(n_components=vec_num, solver='cd', init='nndsvd', tol = 1e-6, max_iter=5000)\n",
    "        W = model.fit_transform(dataset)\n",
    "        H = model.components_\n",
    "        tmp = np.array(W)\n",
    "    \n",
    "    elif method == 'AE':\n",
    "        dataloader, model, optimizer, scheduler = set_AE(batch_size=90, vec_num=vec_num, learning_rate=1e-3)\n",
    "        tmp = run_AE(dataloader, model, optimizer, scheduler, num_epochs=20000+1)\n",
    "        \n",
    "    file_name = 'atom2vec_' + method + str(vec_num) +'.csv'\n",
    "    tmp_pd = pd.DataFrame(tmp, index=atoms)\n",
    "    tmp_pd.to_csv(file_name)"
   ]
  },
  {
   "cell_type": "code",
   "execution_count": 24,
   "metadata": {},
   "outputs": [
    {
     "name": "stdout",
     "output_type": "stream",
     "text": [
      "epoch [1/20001], loss:9966.43847656250000000000\n",
      "Epoch   913: reducing learning rate of group 0 to 1.0000e-04.\n",
      "Epoch  3428: reducing learning rate of group 0 to 1.0000e-05.\n",
      "Epoch  3529: reducing learning rate of group 0 to 1.0000e-06.\n",
      "Epoch  3630: reducing learning rate of group 0 to 1.0000e-07.\n",
      "Epoch  3731: reducing learning rate of group 0 to 1.0000e-08.\n",
      "epoch [4001/20001], loss:3706.92944335937500000000\n",
      "epoch [8001/20001], loss:3706.87548828125000000000\n",
      "epoch [12001/20001], loss:3706.71606445312500000000\n",
      "epoch [16001/20001], loss:3706.50390625000000000000\n",
      "epoch [20001/20001], loss:3706.34497070312500000000\n"
     ]
    }
   ],
   "source": [
    "SVD_or_NMF_or_AE('AE', 20)"
   ]
  },
  {
   "cell_type": "code",
   "execution_count": null,
   "metadata": {},
   "outputs": [],
   "source": []
  },
  {
   "cell_type": "code",
   "execution_count": null,
   "metadata": {},
   "outputs": [],
   "source": []
  }
 ],
 "metadata": {
  "kernelspec": {
   "display_name": "Python 3",
   "language": "python",
   "name": "python3"
  },
  "language_info": {
   "codemirror_mode": {
    "name": "ipython",
    "version": 3
   },
   "file_extension": ".py",
   "mimetype": "text/x-python",
   "name": "python",
   "nbconvert_exporter": "python",
   "pygments_lexer": "ipython3",
   "version": "3.6.5"
  }
 },
 "nbformat": 4,
 "nbformat_minor": 2
}
