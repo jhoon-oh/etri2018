{
 "cells": [
  {
   "cell_type": "markdown",
   "metadata": {},
   "source": [
    "# Heatmap"
   ]
  },
  {
   "cell_type": "code",
   "execution_count": 1,
   "metadata": {},
   "outputs": [],
   "source": [
    "import pandas as pd\n",
    "import numpy as np\n",
    "import matplotlib.pyplot as plt\n",
    "import glob"
   ]
  },
  {
   "cell_type": "code",
   "execution_count": 2,
   "metadata": {},
   "outputs": [],
   "source": [
    "def heatmap(data, row_labels, col_labels, ax=None,\n",
    "            cbar_kw={}, cbarlabel=\"\", **kwargs):\n",
    "    \"\"\"\n",
    "    Create a heatmap from a numpy array and two lists of labels.\n",
    "\n",
    "    Arguments:\n",
    "        data       : A 2D numpy array of shape (N,M)\n",
    "        row_labels : A list or array of length N with the labels\n",
    "                     for the rows\n",
    "        col_labels : A list or array of length M with the labels\n",
    "                     for the columns\n",
    "    Optional arguments:\n",
    "        ax         : A matplotlib.axes.Axes instance to which the heatmap\n",
    "                     is plotted. If not provided, use current axes or\n",
    "                     create a new one.\n",
    "        cbar_kw    : A dictionary with arguments to\n",
    "                     :meth:`matplotlib.Figure.colorbar`.\n",
    "        cbarlabel  : The label for the colorbar\n",
    "    All other arguments are directly passed on to the imshow call.\n",
    "    \"\"\"\n",
    "\n",
    "    if not ax:\n",
    "        ax = plt.gca()\n",
    "\n",
    "    # Plot the heatmap\n",
    "    im = ax.imshow(data, **kwargs)\n",
    "\n",
    "    # Create colorbar\n",
    "    cbar = ax.figure.colorbar(im, ax=ax, **cbar_kw)\n",
    "    cbar.ax.set_ylabel(cbarlabel, rotation=-90, va=\"bottom\")\n",
    "\n",
    "    # We want to show all ticks...\n",
    "    ax.set_xticks(np.arange(data.shape[1]))\n",
    "    ax.set_yticks(np.arange(data.shape[0]))\n",
    "    # ... and label them with the respective list entries.\n",
    "    ax.set_xticklabels(col_labels)\n",
    "    ax.set_yticklabels(row_labels)\n",
    "\n",
    "    # Let the horizontal axes labeling appear on top.\n",
    "    ax.tick_params(top=True, bottom=False,\n",
    "                   labeltop=True, labelbottom=False)\n",
    "\n",
    "    # Rotate the tick labels and set their alignment.\n",
    "    # plt.setp(ax.get_xticklabels(), rotation=-30, ha=\"right\", rotation_mode=\"anchor\")\n",
    "\n",
    "    # Turn spines off and create white grid.\n",
    "    for edge, spine in ax.spines.items():\n",
    "        spine.set_visible(False)\n",
    "\n",
    "    ax.set_xticks(np.arange(data.shape[1]+1)-.5, minor=True)\n",
    "    ax.set_yticks(np.arange(data.shape[0]+1)-.5, minor=True)\n",
    "    ax.grid(which=\"minor\", color=\"w\", linestyle='-')\n",
    "    ax.tick_params(which=\"minor\", bottom=False, left=False)\n",
    "\n",
    "    return im, cbar"
   ]
  },
  {
   "cell_type": "code",
   "execution_count": 3,
   "metadata": {},
   "outputs": [],
   "source": [
    "main_elem = ['H', 'Li', 'Na', 'K', 'Rb', 'Cs',\n",
    "             'Be', 'Mg', 'Ca', 'Sr', 'Ba',\n",
    "             'B', 'Al', 'Ga', 'In', 'Tl',\n",
    "             'C', 'Si', 'Ge', 'Sn', 'Pb',\n",
    "             'N', 'P', 'As', 'Sb', 'Bi',\n",
    "             'O', 'S', 'Se', 'Te',\n",
    "             'Cl', 'Br', 'I']"
   ]
  },
  {
   "cell_type": "code",
   "execution_count": 11,
   "metadata": {},
   "outputs": [],
   "source": [
    "def get_heatmap(file_name):\n",
    "    data = pd.read_csv(file_name, index_col=0)\n",
    "    data = data.loc[main_elem]\n",
    "    fig, ax = plt.subplots(figsize=(10,20))\n",
    "    \n",
    "    cmap = \"RdBu\"\n",
    "    if 'NMF' in file_name:\n",
    "        cmap = \"Blues\"\n",
    "    im, cbar = heatmap(data, list(data.index), list(range(len(data.columns))), ax=ax, cmap=cmap)\n",
    "\n",
    "    fig.tight_layout()\n",
    "    \n",
    "    file_name = file_name.replace('atom2vec','Heatmap').replace('csv','png')\n",
    "    plt.savefig(file_name, dpi=100)\n",
    "    plt.close(fig)"
   ]
  },
  {
   "cell_type": "markdown",
   "metadata": {},
   "source": [
    "# Hierarchical clustering"
   ]
  },
  {
   "cell_type": "code",
   "execution_count": 5,
   "metadata": {},
   "outputs": [],
   "source": [
    "from scipy.cluster.hierarchy import dendrogram, linkage"
   ]
  },
  {
   "cell_type": "code",
   "execution_count": 9,
   "metadata": {},
   "outputs": [],
   "source": [
    "def get_HC(file_name):\n",
    "    data = pd.read_csv(file_name, index_col=0)\n",
    "    if file_name == 'atom_env_matrix.csv':\n",
    "        data = data.transpose()\n",
    "    data = data.loc[main_elem]\n",
    "    \n",
    "    Z = linkage(data, method='average', metric='cosine')\n",
    "    #Z = linkage(data, method='centroid', metric='euclidean', optimal_ordering=True)\n",
    "    fig = plt.figure(figsize=(10, 30))\n",
    "    dn = dendrogram(Z, orientation='right', leaf_font_size=12, labels=list(data.index))\n",
    "    if file_name != 'atom_env_matrix.csv':\n",
    "        file_name = file_name.replace('atom2vec', 'HC')\n",
    "    file_name = file_name.replace('csv', 'png')\n",
    "    plt.savefig(file_name)\n",
    "    plt.close(fig)"
   ]
  },
  {
   "cell_type": "markdown",
   "metadata": {},
   "source": [
    "---"
   ]
  },
  {
   "cell_type": "code",
   "execution_count": 12,
   "metadata": {},
   "outputs": [
    {
     "name": "stdout",
     "output_type": "stream",
     "text": [
      "atom2vec_NMF20.csv\n",
      "atom2vec_AE1024.csv\n",
      "atom2vec_AE20.csv\n",
      "atom_env_matrix.csv\n",
      "atom2vec_SVD20.csv\n"
     ]
    }
   ],
   "source": [
    "file_list = glob.glob('*.csv')\n",
    "file_list.remove('mat_energy.csv')\n",
    "for file_name in file_list:\n",
    "    print (file_name)\n",
    "    get_HC(file_name)\n",
    "    if not 'atom_env' in file_name:\n",
    "        get_heatmap(file_name)"
   ]
  },
  {
   "cell_type": "code",
   "execution_count": null,
   "metadata": {},
   "outputs": [],
   "source": []
  }
 ],
 "metadata": {
  "kernelspec": {
   "display_name": "Python 3",
   "language": "python",
   "name": "python3"
  },
  "language_info": {
   "codemirror_mode": {
    "name": "ipython",
    "version": 3
   },
   "file_extension": ".py",
   "mimetype": "text/x-python",
   "name": "python",
   "nbconvert_exporter": "python",
   "pygments_lexer": "ipython3",
   "version": "3.6.5"
  }
 },
 "nbformat": 4,
 "nbformat_minor": 2
}
