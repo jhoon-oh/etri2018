{
 "cells": [
  {
   "cell_type": "markdown",
   "metadata": {},
   "source": [
    "# Load data\n",
    "My API: WnMieZK6NaAloLRT"
   ]
  },
  {
   "cell_type": "code",
   "execution_count": 19,
   "metadata": {},
   "outputs": [],
   "source": [
    "import re\n",
    "import pymatgen as mg\n",
    "from pymatgen.ext.matproj import MPRester"
   ]
  },
  {
   "cell_type": "code",
   "execution_count": 20,
   "metadata": {},
   "outputs": [
    {
     "name": "stdout",
     "output_type": "stream",
     "text": [
      "75843\n"
     ]
    }
   ],
   "source": [
    "with MPRester(\"WnMieZK6NaAloLRT\") as m:\n",
    "    entries = m.query({\"nelements\": {\"$gte\": 2, \"$lte\": 4}}, [\"pretty_formula\"])\n",
    "    all_compounds_formula = [e['pretty_formula'] for e in entries]\n",
    "    num_all_comp = len(all_compounds_formula)\n",
    "print (num_all_comp)"
   ]
  },
  {
   "cell_type": "markdown",
   "metadata": {},
   "source": [
    "# Split into atoms and envs"
   ]
  },
  {
   "cell_type": "code",
   "execution_count": 21,
   "metadata": {},
   "outputs": [],
   "source": [
    "def hasNumbers(inputString):\n",
    "    return bool(re.search(r'\\d', inputString))\n",
    "\n",
    "def hasParenthesis(inputString):\n",
    "    return bool(re.search(r'\\(', inputString))"
   ]
  },
  {
   "cell_type": "code",
   "execution_count": 22,
   "metadata": {},
   "outputs": [
    {
     "name": "stdout",
     "output_type": "stream",
     "text": [
      "75843 75843 75843\n"
     ]
    }
   ],
   "source": [
    "atoms = []\n",
    "environments = []\n",
    "compounds = []\n",
    "\n",
    "for i in range(num_all_comp):\n",
    "    if hasParenthesis(all_compounds_formula[i]):\n",
    "        before_parenthesis = all_compounds_formula[i].split('(')[0]\n",
    "        parenthesis = '('+all_compounds_formula[i].split('(')[1]\n",
    "        tmp = re.findall('[A-Z][^A-Z]*', before_parenthesis)\n",
    "    else:\n",
    "        tmp = re.findall('[A-Z][^A-Z]*', all_compounds_formula[i])\n",
    "        \n",
    "    for j in range(len(tmp)):\n",
    "        if j == 0:\n",
    "            if hasNumbers(tmp[j]):\n",
    "                num_idx = re.search('[0-9]', tmp[j]).span()[0]\n",
    "                tmp1 = tmp[j][:num_idx]\n",
    "                tmp2 = tmp[j][num_idx:]\n",
    "            else:\n",
    "                tmp1 = tmp[j]\n",
    "                tmp2 = ''\n",
    "        else:\n",
    "            tmp2 += tmp[j]\n",
    "    if hasParenthesis(all_compounds_formula[i]):\n",
    "        tmp2 += parenthesis\n",
    "\n",
    "    atoms.append(tmp1)\n",
    "    environments.append(tmp2)\n",
    "    compounds.append([tmp1, tmp2])\n",
    "        \n",
    "print (len(atoms), len(environments), len(compounds))"
   ]
  },
  {
   "cell_type": "code",
   "execution_count": 23,
   "metadata": {},
   "outputs": [
    {
     "name": "stdout",
     "output_type": "stream",
     "text": [
      "AcMg5 Ac Mg5\n"
     ]
    }
   ],
   "source": [
    "idx = 25\n",
    "print (all_compounds_formula[idx], atoms[idx], environments[idx])"
   ]
  },
  {
   "cell_type": "code",
   "execution_count": 24,
   "metadata": {},
   "outputs": [],
   "source": [
    "unique_atoms = list(set(atoms))\n",
    "unique_environments = list(set(environments))"
   ]
  },
  {
   "cell_type": "code",
   "execution_count": 25,
   "metadata": {},
   "outputs": [
    {
     "name": "stdout",
     "output_type": "stream",
     "text": [
      "['Eu', 'As', 'Cr', 'Rb', 'Pu', 'O', 'Cd', 'Lu', 'Pm', 'Ba', 'Co', 'Pr', 'Ir', 'Gd', 'Sr', 'C', 'Ga', 'Sb', 'I', 'Rh', 'Mo', 'Ac', 'Sc', 'Sm', 'Ti', 'Cl', 'N', 'H', 'Er', 'Te', 'Ru', 'U', 'Ho', 'Os', 'La', 'Na', 'Tb', 'W', 'Mg', 'S', 'Np', 'Br', 'Be', 'Sn', 'Tm', 'He', 'B', 'Cu', 'Nb', 'Ag', 'Ni', 'Zn', 'Fe', 'Pd', 'Pt', 'Ca', 'Th', 'In', 'Se', 'P', 'V', 'Li', 'Ta', 'Nd', 'Si', 'Ge', 'Pb', 'Ce', 'Pa', 'Mn', 'Y', 'Zr', 'Tl', 'K', 'Tc', 'Yb', 'Kr', 'Hf', 'Cs', 'Re', 'Xe', 'Hg', 'Dy', 'Au', 'Bi', 'Al']\n"
     ]
    }
   ],
   "source": [
    "print (unique_atoms)"
   ]
  },
  {
   "cell_type": "markdown",
   "metadata": {},
   "source": [
    "# Make atom_env matrix"
   ]
  },
  {
   "cell_type": "code",
   "execution_count": 26,
   "metadata": {},
   "outputs": [],
   "source": [
    "import pandas as pd\n",
    "import numpy as np"
   ]
  },
  {
   "cell_type": "code",
   "execution_count": 27,
   "metadata": {},
   "outputs": [],
   "source": [
    "atom_env = pd.DataFrame(0, columns=unique_atoms, index=unique_environments)\n",
    "for i in range(len(compounds)):\n",
    "    atom = compounds[i][0]\n",
    "    env = compounds[i][1]\n",
    "    atom_env[atom][env] += 1\n",
    "atom_env.to_csv('atom_env_matrix.csv')"
   ]
  },
  {
   "cell_type": "code",
   "execution_count": 28,
   "metadata": {},
   "outputs": [
    {
     "name": "stdout",
     "output_type": "stream",
     "text": [
      "0.02542632302370895\n"
     ]
    }
   ],
   "source": [
    "print (np.count_nonzero(np.array(atom_env))/(atom_env.shape[0]*atom_env.shape[1]))"
   ]
  },
  {
   "cell_type": "code",
   "execution_count": 47,
   "metadata": {},
   "outputs": [
    {
     "name": "stdout",
     "output_type": "stream",
     "text": [
      "0\n",
      "0\n",
      "8\n",
      "1\n",
      "0\n",
      "0\n",
      "1\n",
      "0\n",
      "0\n",
      "8\n",
      "10\n",
      "0\n",
      "0\n",
      "0\n",
      "5\n",
      "2\n",
      "0\n",
      "3\n",
      "0\n",
      "0\n",
      "10\n",
      "0\n",
      "0\n",
      "0\n",
      "6\n",
      "0\n",
      "0\n",
      "4\n",
      "0\n",
      "10\n",
      "0\n",
      "0\n",
      "0\n",
      "0\n",
      "2\n",
      "3\n",
      "0\n",
      "4\n",
      "49\n",
      "0\n",
      "0\n",
      "0\n",
      "0\n",
      "2\n",
      "0\n",
      "0\n",
      "1\n",
      "2\n",
      "2\n",
      "1\n",
      "4\n",
      "12\n",
      "28\n",
      "0\n",
      "0\n",
      "25\n",
      "0\n",
      "0\n",
      "0\n",
      "0\n",
      "25\n",
      "149\n",
      "2\n",
      "0\n",
      "2\n",
      "0\n",
      "2\n",
      "5\n",
      "0\n",
      "18\n",
      "3\n",
      "3\n",
      "0\n",
      "1\n",
      "0\n",
      "0\n",
      "0\n",
      "1\n",
      "1\n",
      "1\n",
      "0\n",
      "0\n",
      "0\n",
      "0\n",
      "3\n",
      "5\n",
      "---\n",
      "424\n"
     ]
    }
   ],
   "source": [
    "total = 0\n",
    "for ele in unique_atoms:\n",
    "    tmp = sum(list(atom_env[ele] >= 10))\n",
    "    total += tmp\n",
    "    print (tmp)\n",
    "print (\"---\")\n",
    "print (total)"
   ]
  },
  {
   "cell_type": "code",
   "execution_count": null,
   "metadata": {},
   "outputs": [],
   "source": []
  }
 ],
 "metadata": {
  "kernelspec": {
   "display_name": "Python 3",
   "language": "python",
   "name": "python3"
  },
  "language_info": {
   "codemirror_mode": {
    "name": "ipython",
    "version": 3
   },
   "file_extension": ".py",
   "mimetype": "text/x-python",
   "name": "python",
   "nbconvert_exporter": "python",
   "pygments_lexer": "ipython3",
   "version": "3.6.5"
  }
 },
 "nbformat": 4,
 "nbformat_minor": 2
}
