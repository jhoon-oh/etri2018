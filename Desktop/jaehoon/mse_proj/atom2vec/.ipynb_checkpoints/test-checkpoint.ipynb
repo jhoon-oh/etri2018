{
 "cells": [
  {
   "cell_type": "code",
   "execution_count": 1,
   "metadata": {},
   "outputs": [],
   "source": [
    "import re\n",
    "import pymatgen as mg\n",
    "from pymatgen.ext.matproj import MPRester"
   ]
  },
  {
   "cell_type": "code",
   "execution_count": 11,
   "metadata": {},
   "outputs": [
    {
     "name": "stdout",
     "output_type": "stream",
     "text": [
      "40389\n"
     ]
    }
   ],
   "source": [
    "with MPRester(\"WnMieZK6NaAloLRT\") as m:\n",
    "    entries = m.query({\"nelements\": 3}, [\"pretty_formula\"])\n",
    "    all_compounds_formula = [e['pretty_formula'] for e in entries]\n",
    "    num_all_comp = len(all_compounds_formula)\n",
    "print (num_all_comp)"
   ]
  },
  {
   "cell_type": "code",
   "execution_count": null,
   "metadata": {},
   "outputs": [],
   "source": []
  }
 ],
 "metadata": {
  "kernelspec": {
   "display_name": "Python 3",
   "language": "python",
   "name": "python3"
  },
  "language_info": {
   "codemirror_mode": {
    "name": "ipython",
    "version": 3
   },
   "file_extension": ".py",
   "mimetype": "text/x-python",
   "name": "python",
   "nbconvert_exporter": "python",
   "pygments_lexer": "ipython3",
   "version": "3.6.5"
  }
 },
 "nbformat": 4,
 "nbformat_minor": 2
}
