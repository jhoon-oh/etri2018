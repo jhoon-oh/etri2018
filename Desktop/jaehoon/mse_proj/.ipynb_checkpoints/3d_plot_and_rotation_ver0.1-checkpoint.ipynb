{
 "cells": [
  {
   "cell_type": "markdown",
   "metadata": {},
   "source": [
    "# 3d_plotting"
   ]
  },
  {
   "cell_type": "code",
   "execution_count": 1,
   "metadata": {
    "collapsed": true
   },
   "outputs": [],
   "source": [
    "import pandas as pd\n",
    "from mpl_toolkits.mplot3d import Axes3D\n",
    "import matplotlib.pyplot as plt\n",
    "import matplotlib.colors"
   ]
  },
  {
   "cell_type": "code",
   "execution_count": 2,
   "metadata": {
    "collapsed": true
   },
   "outputs": [],
   "source": [
    "loc_data = pd.read_csv('./data/O_atom_location.csv')\n",
    "atom_data = pd.read_csv('./data/atom_property.csv')"
   ]
  },
  {
   "cell_type": "code",
   "execution_count": 3,
   "metadata": {
    "collapsed": true
   },
   "outputs": [],
   "source": [
    "name_number = {}\n",
    "for i in range(len(atom_data)):\n",
    "    name_number[atom_data['Symbol'][i]]=atom_data['Atomic Number'][i]"
   ]
  },
  {
   "cell_type": "code",
   "execution_count": 4,
   "metadata": {
    "collapsed": true
   },
   "outputs": [],
   "source": [
    "xmax1, xmin1 = max(loc_data['x']), min(loc_data['x'])\n",
    "ymax1, ymin1 = max(loc_data['y']), min(loc_data['y'])\n",
    "zmax1, zmin1 = max(loc_data['z']), min(loc_data['z'])"
   ]
  },
  {
   "cell_type": "code",
   "execution_count": 5,
   "metadata": {
    "collapsed": true
   },
   "outputs": [],
   "source": [
    "vmax, vmin = max(atom_data['Atomic Number']), min (atom_data['Atomic Number'])\n",
    "cmap = plt.cm.rainbow\n",
    "norm = matplotlib.colors.Normalize(vmin=vmin, vmax=vmax)"
   ]
  },
  {
   "cell_type": "code",
   "execution_count": 6,
   "metadata": {
    "collapsed": true
   },
   "outputs": [],
   "source": [
    "def plot_3d_scatter1(idx):\n",
    "    data = loc_data[loc_data['num']==idx]\n",
    "    atoms = list(data['atom'])\n",
    "    for i in range(len(atoms)):\n",
    "        atoms[i] = name_number[atoms[i]]\n",
    "    x = list(data['x'])\n",
    "    y = list(data['y'])\n",
    "    z = list(data['z'])\n",
    "       \n",
    "    fig = plt.figure()\n",
    "    ax = fig.add_subplot(111, projection='3d')\n",
    "    \n",
    "    m = plt.cm.ScalarMappable(norm=norm, cmap=cmap)\n",
    "    \n",
    "    ax.scatter(x, y, z, c=m.to_rgba(atoms))\n",
    "    ax.grid(False)\n",
    "    ax.set_xlabel('X Label')\n",
    "    ax.set_ylabel('Y Label')\n",
    "    ax.set_zlabel('Z Label')\n",
    "    ax.set_xlim(xmin1, xmax1)\n",
    "    ax.set_ylim(ymin1, ymax1)\n",
    "    ax.set_zlim(zmin1, zmax1)\n",
    "    \n",
    "    # plt.axis('off')\n",
    "    # file_name = './3d_plot/'+str(idx)+' material 3d plot.png'\n",
    "    # fig.savefig(file_name, bbox_inches='tight')\n",
    "    plt.show()\n",
    "    plt.close()"
   ]
  },
  {
   "cell_type": "code",
   "execution_count": 7,
   "metadata": {},
   "outputs": [
    {
     "data": {
      "image/png": "[encoded data removed]",
      "text/plain": [
       "<matplotlib.figure.Figure at 0x7f5cf829e198>"
      ]
     },
     "metadata": {},
     "output_type": "display_data"
    }
   ],
   "source": [
    "# 1~1520 is available\n",
    "for i in range(1):\n",
    "    plot_3d_scatter1(i+1)"
   ]
  },
  {
   "cell_type": "markdown",
   "metadata": {},
   "source": [
    "## set as ((xmin+xmax)/2, (ymin+ymax)/2, (zmin+zmax)/2) = (0, 0, 0)"
   ]
  },
  {
   "cell_type": "code",
   "execution_count": 8,
   "metadata": {
    "collapsed": true
   },
   "outputs": [],
   "source": [
    "xmid = (xmin1+xmax1)/2\n",
    "ymid = (ymin1+ymax1)/2\n",
    "zmid = (zmin1+zmax1)/2\n",
    "\n",
    "xmax2, xmin2 = xmax1-xmid, xmin1-xmid\n",
    "ymax2, ymin2 = ymax1-ymid, ymin1-ymid\n",
    "zmax2, zmin2 = zmax1-zmid, zmin1-zmid"
   ]
  },
  {
   "cell_type": "code",
   "execution_count": 61,
   "metadata": {
    "collapsed": true
   },
   "outputs": [],
   "source": [
    "def plot_3d_scatter2(idx):\n",
    "    data = loc_data[loc_data['num']==idx]\n",
    "    atoms = list(data['atom'])\n",
    "    for i in range(len(atoms)):\n",
    "        atoms[i] = name_number[atoms[i]]\n",
    "    x = list(data['x']) - xmid\n",
    "    y = list(data['y']) - ymid\n",
    "    z = list(data['z']) - zmid\n",
    "       \n",
    "    fig = plt.figure()\n",
    "    ax = fig.add_subplot(111, projection='3d')\n",
    "    \n",
    "    m = plt.cm.ScalarMappable(norm=norm, cmap=cmap)\n",
    "    \n",
    "    ax.scatter(x, y, z, c=m.to_rgba(atoms))\n",
    "    ax.grid(False)\n",
    "    ax.set_xlabel('X Label')\n",
    "    ax.set_ylabel('Y Label')\n",
    "    ax.set_zlabel('Z Label')\n",
    "    ax.set_xlim(xmin2, xmax2)\n",
    "    ax.set_ylim(ymin2, ymax2)\n",
    "    ax.set_zlim(zmin2, zmax2)\n",
    "    \n",
    "    plt.axis('off')\n",
    "    file_name = './3d_plot/'+str(idx)+' material 3d plot.png'\n",
    "    fig.savefig(file_name, bbox_inches='tight')\n",
    "    #plt.show()\n",
    "    plt.close()"
   ]
  },
  {
   "cell_type": "code",
   "execution_count": 62,
   "metadata": {},
   "outputs": [],
   "source": [
    "# 1~1520 is available\n",
    "for i in range(1520):\n",
    "    plot_3d_scatter2(i+1)"
   ]
  },
  {
   "cell_type": "markdown",
   "metadata": {
    "collapsed": true
   },
   "source": [
    "# 3d rotation"
   ]
  },
  {
   "cell_type": "code",
   "execution_count": 11,
   "metadata": {
    "collapsed": true
   },
   "outputs": [],
   "source": [
    "import numpy as np"
   ]
  },
  {
   "cell_type": "code",
   "execution_count": 12,
   "metadata": {
    "collapsed": true
   },
   "outputs": [],
   "source": [
    "def make_rot_mat(a, b, c):\n",
    "    R_x = np.array([[1,0,0],[0,np.cos(2*np.pi*a),-np.sin(2*np.pi*a)],[0,np.sin(2*np.pi*a),np.cos(2*np.pi*a)]])\n",
    "    R_y = np.array([[np.cos(2*np.pi*b),0,np.sin(2*np.pi*b)],[0,1,0],[-np.sin(2*np.pi*b),0,np.cos(2*np.pi*b)]])\n",
    "    R_z = np.array([[np.cos(2*np.pi*c),-np.sin(2*np.pi*c),0],[np.sin(2*np.pi*c),np.cos(2*np.pi*c),0],[0,0,1]])\n",
    "    rot_mat = np.matmul(R_z,np.matmul(R_x,R_y))\n",
    "    return rot_mat"
   ]
  },
  {
   "cell_type": "code",
   "execution_count": 13,
   "metadata": {
    "collapsed": true
   },
   "outputs": [],
   "source": [
    "rot_mat = make_rot_mat(np.random.rand(), np.random.rand(), np.random.rand())"
   ]
  },
  {
   "cell_type": "code",
   "execution_count": 14,
   "metadata": {
    "collapsed": true
   },
   "outputs": [],
   "source": [
    "new_loc_data = loc_data.copy()\n",
    "new_loc_data['x'] = loc_data['x']-xmid\n",
    "new_loc_data['y'] = loc_data['y']-ymid\n",
    "new_loc_data['z'] = loc_data['z']-zmid"
   ]
  },
  {
   "cell_type": "code",
   "execution_count": 15,
   "metadata": {
    "collapsed": true
   },
   "outputs": [],
   "source": [
    "rot_data = np.matmul(new_loc_data.drop(['num','atom'], axis=1), rot_mat)"
   ]
  },
  {
   "cell_type": "code",
   "execution_count": 35,
   "metadata": {},
   "outputs": [],
   "source": [
    "X = []; Y = []; Z = []\n",
    "for i in range(len(rot_data)):\n",
    "    X.append(rot_data[i][0])\n",
    "    Y.append(rot_data[i][1])\n",
    "    Z.append(rot_data[i][2])\n",
    "    \n",
    "new_loc_data['x']=X\n",
    "new_loc_data['y']=Y\n",
    "new_loc_data['z']=Z"
   ]
  },
  {
   "cell_type": "code",
   "execution_count": 63,
   "metadata": {},
   "outputs": [],
   "source": [
    "def plot_3d_scatter3(idx):\n",
    "    data = new_loc_data[new_loc_data['num']==idx]\n",
    "    atoms = list(data['atom'])\n",
    "    for i in range(len(atoms)):\n",
    "        atoms[i] = name_number[atoms[i]]\n",
    "    x = list(data['x'])\n",
    "    y = list(data['y'])\n",
    "    z = list(data['z'])\n",
    "       \n",
    "    fig = plt.figure()\n",
    "    ax = fig.add_subplot(111, projection='3d')\n",
    "    \n",
    "    m = plt.cm.ScalarMappable(norm=norm, cmap=cmap)\n",
    "    \n",
    "    ax.scatter(x, y, z, c=m.to_rgba(atoms))\n",
    "    ax.grid(False)\n",
    "    ax.set_xlabel('X Label')\n",
    "    ax.set_ylabel('Y Label')\n",
    "    ax.set_zlabel('Z Label')\n",
    "    ax.set_xlim(xmin2, xmax2)\n",
    "    ax.set_ylim(ymin2, ymax2)\n",
    "    ax.set_zlim(zmin2, zmax2)\n",
    "    \n",
    "    plt.axis('off')\n",
    "    file_name = './3d_plot_rot/'+str(idx)+' material 3d plot.png'\n",
    "    fig.savefig(file_name, bbox_inches='tight')\n",
    "    #plt.show()\n",
    "    plt.close()"
   ]
  },
  {
   "cell_type": "code",
   "execution_count": 64,
   "metadata": {},
   "outputs": [],
   "source": [
    "# 1~1520 is available\n",
    "for i in range(1520):\n",
    "    plot_3d_scatter3(i+1)"
   ]
  },
  {
   "cell_type": "code",
   "execution_count": null,
   "metadata": {
    "collapsed": true
   },
   "outputs": [],
   "source": []
  }
 ],
 "metadata": {
  "kernelspec": {
   "display_name": "Python 3",
   "language": "python",
   "name": "python3"
  },
  "language_info": {
   "codemirror_mode": {
    "name": "ipython",
    "version": 3
   },
   "file_extension": ".py",
   "mimetype": "text/x-python",
   "name": "python",
   "nbconvert_exporter": "python",
   "pygments_lexer": "ipython3",
   "version": "3.6.4"
  }
 },
 "nbformat": 4,
 "nbformat_minor": 2
}
